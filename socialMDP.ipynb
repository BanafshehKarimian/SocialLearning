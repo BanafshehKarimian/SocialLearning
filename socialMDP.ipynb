{
  "nbformat": 4,
  "nbformat_minor": 0,
  "metadata": {
    "colab": {
      "provenance": [],
      "collapsed_sections": []
    },
    "kernelspec": {
      "display_name": "Python 3",
      "name": "python3"
    },
    "language_info": {
      "name": "python"
    }
  },
  "cells": [
    {
      "cell_type": "code",
      "source": [],
      "metadata": {
        "id": "7orvJ4FEl-GX"
      },
      "execution_count": null,
      "outputs": []
    },
    {
      "cell_type": "code",
      "metadata": {
        "colab": {
          "base_uri": "https://localhost:8080/"
        },
        "id": "gygNFcGS8bPX",
        "outputId": "2b2527af-1dc4-465b-cccb-b0a928e783ba"
      },
      "source": [
        "!pip install torch===1.6.0 torchvision===0.7.0 -f https://download.pytorch.org/whl/torch_stable.html\n",
        "!pip install tensorboardX"
      ],
      "execution_count": null,
      "outputs": [
        {
          "output_type": "stream",
          "name": "stdout",
          "text": [
            "Looking in links: https://download.pytorch.org/whl/torch_stable.html\n",
            "Collecting torch===1.6.0\n",
            "  Downloading torch-1.6.0-cp37-cp37m-manylinux1_x86_64.whl (748.8 MB)\n",
            "\u001b[K\n",
            "\u001b[?25hTraceback (most recent call last):\n",
            "  File \"/usr/local/lib/python3.7/dist-packages/pip/_internal/cli/base_command.py\", line 180, in _main\n",
            "    status = self.run(options, args)\n",
            "  File \"/usr/local/lib/python3.7/dist-packages/pip/_internal/cli/req_command.py\", line 199, in wrapper\n",
            "    return func(self, options, args)\n",
            "  File \"/usr/local/lib/python3.7/dist-packages/pip/_internal/commands/install.py\", line 319, in run\n",
            "    reqs, check_supported_wheels=not options.target_dir\n",
            "  File \"/usr/local/lib/python3.7/dist-packages/pip/_internal/resolution/resolvelib/resolver.py\", line 128, in resolve\n",
            "    requirements, max_rounds=try_to_avoid_resolution_too_deep\n",
            "  File \"/usr/local/lib/python3.7/dist-packages/pip/_vendor/resolvelib/resolvers.py\", line 473, in resolve\n",
            "    state = resolution.resolve(requirements, max_rounds=max_rounds)\n",
            "  File \"/usr/local/lib/python3.7/dist-packages/pip/_vendor/resolvelib/resolvers.py\", line 341, in resolve\n",
            "    name, crit = self._merge_into_criterion(r, parent=None)\n",
            "  File \"/usr/local/lib/python3.7/dist-packages/pip/_vendor/resolvelib/resolvers.py\", line 172, in _merge_into_criterion\n",
            "    if not criterion.candidates:\n",
            "  File \"/usr/local/lib/python3.7/dist-packages/pip/_vendor/resolvelib/structs.py\", line 139, in __bool__\n",
            "    return bool(self._sequence)\n",
            "  File \"/usr/local/lib/python3.7/dist-packages/pip/_internal/resolution/resolvelib/found_candidates.py\", line 143, in __bool__\n",
            "    return any(self)\n",
            "  File \"/usr/local/lib/python3.7/dist-packages/pip/_internal/resolution/resolvelib/found_candidates.py\", line 129, in <genexpr>\n",
            "    return (c for c in iterator if id(c) not in self._incompatible_ids)\n",
            "  File \"/usr/local/lib/python3.7/dist-packages/pip/_internal/resolution/resolvelib/found_candidates.py\", line 33, in _iter_built\n",
            "    candidate = func()\n",
            "  File \"/usr/local/lib/python3.7/dist-packages/pip/_internal/resolution/resolvelib/factory.py\", line 205, in _make_candidate_from_link\n",
            "    version=version,\n",
            "  File \"/usr/local/lib/python3.7/dist-packages/pip/_internal/resolution/resolvelib/candidates.py\", line 312, in __init__\n",
            "    version=version,\n",
            "  File \"/usr/local/lib/python3.7/dist-packages/pip/_internal/resolution/resolvelib/candidates.py\", line 151, in __init__\n",
            "    self.dist = self._prepare()\n",
            "  File \"/usr/local/lib/python3.7/dist-packages/pip/_internal/resolution/resolvelib/candidates.py\", line 234, in _prepare\n",
            "    dist = self._prepare_distribution()\n",
            "  File \"/usr/local/lib/python3.7/dist-packages/pip/_internal/resolution/resolvelib/candidates.py\", line 318, in _prepare_distribution\n",
            "    self._ireq, parallel_builds=True\n",
            "  File \"/usr/local/lib/python3.7/dist-packages/pip/_internal/operations/prepare.py\", line 508, in prepare_linked_requirement\n",
            "    return self._prepare_linked_requirement(req, parallel_builds)\n",
            "  File \"/usr/local/lib/python3.7/dist-packages/pip/_internal/operations/prepare.py\", line 552, in _prepare_linked_requirement\n",
            "    self.download_dir, hashes\n",
            "  File \"/usr/local/lib/python3.7/dist-packages/pip/_internal/operations/prepare.py\", line 243, in unpack_url\n",
            "    hashes=hashes,\n",
            "  File \"/usr/local/lib/python3.7/dist-packages/pip/_internal/operations/prepare.py\", line 102, in get_http_url\n",
            "    from_path, content_type = download(link, temp_dir.path)\n",
            "  File \"/usr/local/lib/python3.7/dist-packages/pip/_internal/network/download.py\", line 157, in __call__\n",
            "    for chunk in chunks:\n",
            "  File \"/usr/local/lib/python3.7/dist-packages/pip/_internal/cli/progress_bars.py\", line 156, in iter\n",
            "    self.next(len(x))  # noqa: B305\n",
            "  File \"/usr/local/lib/python3.7/dist-packages/pip/_vendor/progress/__init__.py\", line 120, in next\n",
            "    self.update()\n",
            "  File \"/usr/local/lib/python3.7/dist-packages/pip/_vendor/progress/bar.py\", line 83, in update\n",
            "    self.writeln(line)\n",
            "  File \"/usr/local/lib/python3.7/dist-packages/pip/_vendor/progress/__init__.py\", line 101, in writeln\n",
            "    self.clearln()\n",
            "  File \"/usr/local/lib/python3.7/dist-packages/pip/_vendor/progress/__init__.py\", line 90, in clearln\n",
            "    print('\\r\\x1b[K', end='', file=self.file)\n",
            "  File \"/usr/local/lib/python3.7/dist-packages/pip/_internal/cli/progress_bars.py\", line 106, in handle_sigint\n",
            "    self.finish()\n",
            "  File \"/usr/local/lib/python3.7/dist-packages/pip/_internal/cli/progress_bars.py\", line 96, in finish\n",
            "    super().finish()  # type: ignore\n",
            "  File \"/usr/local/lib/python3.7/dist-packages/pip/_vendor/progress/__init__.py\", line 107, in finish\n",
            "    print(file=self.file)\n",
            "RuntimeError: reentrant call inside <_io.BufferedWriter name='<stdout>'>\n",
            "\n",
            "During handling of the above exception, another exception occurred:\n",
            "\n",
            "Traceback (most recent call last):\n",
            "  File \"/usr/local/bin/pip3\", line 8, in <module>\n",
            "    sys.exit(main())\n",
            "  File \"/usr/local/lib/python3.7/dist-packages/pip/_internal/cli/main.py\", line 71, in main\n",
            "    return command.main(cmd_args)\n",
            "  File \"/usr/local/lib/python3.7/dist-packages/pip/_internal/cli/base_command.py\", line 104, in main\n",
            "    return self._main(args)\n",
            "  File \"/usr/local/lib/python3.7/dist-packages/pip/_internal/cli/base_command.py\", line 217, in _main\n",
            "    logger.critical(\"Exception:\", exc_info=True)\n",
            "  File \"/usr/lib/python3.7/logging/__init__.py\", line 1425, in critical\n",
            "    self._log(CRITICAL, msg, args, **kwargs)\n",
            "  File \"/usr/lib/python3.7/logging/__init__.py\", line 1514, in _log\n",
            "    self.handle(record)\n",
            "  File \"/usr/lib/python3.7/logging/__init__.py\", line 1524, in handle\n",
            "    self.callHandlers(record)\n",
            "  File \"/usr/lib/python3.7/logging/__init__.py\", line 1586, in callHandlers\n",
            "    hdlr.handle(record)\n",
            "  File \"/usr/lib/python3.7/logging/__init__.py\", line 894, in handle\n",
            "    self.emit(record)\n",
            "  File \"/usr/lib/python3.7/logging/__init__.py\", line 1025, in emit\n",
            "    msg = self.format(record)\n",
            "  File \"/usr/local/lib/python3.7/dist-packages/pip/_internal/utils/logging.py\", line 208, in format\n",
            "    msg = super().format(record)\n",
            "  File \"/usr/lib/python3.7/logging/__init__.py\", line 869, in format\n",
            "    return fmt.format(record)\n",
            "  File \"/usr/local/lib/python3.7/dist-packages/pip/_internal/utils/logging.py\", line 130, in format\n",
            "    formatted = super().format(record)\n",
            "  File \"/usr/lib/python3.7/logging/__init__.py\", line 616, in format\n",
            "    record.exc_text = self.formatException(record.exc_info)\n",
            "  File \"/usr/lib/python3.7/logging/__init__.py\", line 566, in formatException\n",
            "    traceback.print_exception(ei[0], ei[1], tb, None, sio)\n",
            "  File \"/usr/lib/python3.7/traceback.py\", line 104, in print_exception\n",
            "    type(value), value, tb, limit=limit).format(chain=chain):\n",
            "  File \"/usr/lib/python3.7/traceback.py\", line 508, in __init__\n",
            "    capture_locals=capture_locals)\n",
            "  File \"/usr/lib/python3.7/traceback.py\", line 363, in extract\n",
            "    f.line\n",
            "  File \"/usr/lib/python3.7/traceback.py\", line 285, in line\n",
            "    self._line = linecache.getline(self.filename, self.lineno).strip()\n",
            "  File \"/usr/lib/python3.7/linecache.py\", line 16, in getline\n",
            "    lines = getlines(filename, module_globals)\n",
            "  File \"/usr/lib/python3.7/linecache.py\", line 47, in getlines\n",
            "    return updatecache(filename, module_globals)\n",
            "  File \"/usr/lib/python3.7/linecache.py\", line 136, in updatecache\n",
            "    with tokenize.open(fullname) as fp:\n",
            "  File \"/usr/lib/python3.7/tokenize.py\", line 449, in open\n",
            "    encoding, lines = detect_encoding(buffer.readline)\n",
            "  File \"/usr/lib/python3.7/tokenize.py\", line 418, in detect_encoding\n",
            "    first = read_or_stop()\n",
            "  File \"/usr/lib/python3.7/tokenize.py\", line 376, in read_or_stop\n",
            "    return readline()\n",
            "  File \"/usr/local/lib/python3.7/dist-packages/pip/_internal/cli/progress_bars.py\", line 107, in handle_sigint\n",
            "    self.original_handler(signum, frame)\n",
            "KeyboardInterrupt\n",
            "Collecting tensorboardX\n",
            "  Downloading tensorboardX-2.4-py2.py3-none-any.whl (124 kB)\n",
            "\u001b[K     |████████████████████████████████| 124 kB 5.0 MB/s \n"
          ]
        }
      ]
    },
    {
      "cell_type": "code",
      "metadata": {
        "colab": {
          "base_uri": "https://localhost:8080/"
        },
        "id": "FY2rpQoE9oYt",
        "outputId": "8ef79223-0fff-4ca2-c3f1-f74f487123b5"
      },
      "source": [
        "from datetime import datetime\n",
        "import functools\n",
        "import os\n",
        "import time\n",
        "from functools import partial\n",
        "\n",
        "import gym\n",
        "import numpy as np\n",
        "import torch\n",
        "import tqdm\n",
        "\n",
        "from IPython.display import HTML, clear_output\n",
        "import jax\n",
        "import jax.numpy as jnp\n",
        "import matplotlib.pyplot as plt\n",
        "try:\n",
        "  import brax\n",
        "except ImportError:\n",
        "  from IPython.display import clear_output\n",
        "  !pip install git+https://github.com/google/brax.git@main\n",
        "  clear_output()\n",
        "  import brax\n",
        "\n",
        "\n",
        "from brax import envs\n",
        "from brax.training import sac\n",
        "from brax.io import html\n",
        "import numpy as np\n",
        "if 'COLAB_TPU_ADDR' in os.environ:\n",
        "  from jax.tools import colab_tpu\n",
        "  colab_tpu.setup_tpu()\n",
        "from brax.envs.to_torch import JaxToTorchWrapper\n",
        "from brax.envs import _envs, create_gym_env\n",
        "\n",
        "if 'COLAB_TPU_ADDR' in os.environ:\n",
        "  from jax.tools import colab_tpu\n",
        "  colab_tpu.setup_tpu()\n",
        "\n",
        "CUDA_AVAILABLE = torch.cuda.is_available()\n",
        "if CUDA_AVAILABLE:\n",
        "    # BUG: (@lebrice): Getting a weird \"CUDA error: out of memory\" RuntimeError\n",
        "    # during JIT, which can be \"fixed\" by first creating a dummy cuda tensor!\n",
        "    v = torch.ones(1, device=\"cuda\")\n",
        "#Registering Brax environments in Gym\n",
        "for env_name, env_class in _envs.items():\n",
        "    env_id = f\"brax_{env_name}-v0\"\n",
        "    entry_point = partial(create_gym_env, env_name=env_name)\n",
        "    if env_id not in gym.envs.registry.env_specs:\n",
        "        print(f\"Registring brax's '{env_name}' env under id '{env_id}'.\")\n",
        "        gym.register(env_id, entry_point=entry_point)"
      ],
      "execution_count": null,
      "outputs": [
        {
          "output_type": "stream",
          "name": "stdout",
          "text": [
            "Registring brax's 'ant' env under id 'brax_ant-v0'.\n",
            "Registring brax's 'fast' env under id 'brax_fast-v0'.\n",
            "Registring brax's 'fetch' env under id 'brax_fetch-v0'.\n",
            "Registring brax's 'grasp' env under id 'brax_grasp-v0'.\n",
            "Registring brax's 'halfcheetah' env under id 'brax_halfcheetah-v0'.\n",
            "Registring brax's 'hopper' env under id 'brax_hopper-v0'.\n",
            "Registring brax's 'humanoid' env under id 'brax_humanoid-v0'.\n",
            "Registring brax's 'reacher' env under id 'brax_reacher-v0'.\n",
            "Registring brax's 'reacherangle' env under id 'brax_reacherangle-v0'.\n",
            "Registring brax's 'ur5e' env under id 'brax_ur5e-v0'.\n",
            "Registring brax's 'walker2d' env under id 'brax_walker2d-v0'.\n"
          ]
        }
      ]
    },
    {
      "cell_type": "code",
      "metadata": {
        "id": "gQDqOUJn_ICS"
      },
      "source": [
        "import torch\n",
        "from torchvision import transforms\n",
        "class TorchBraxENV:\n",
        "    def __init__(self, env_name = \"ant\", count = 1, batch_size = 1):\n",
        "        self.name = {'ant' : 'brax_ant-v0', 'fetch' : 'brax_fetch-v0', 'grasp' : 'brax_grasp-v0', 'humanoid' : 'brax_humanoid-v0', 'reacher' : 'brax_reacher-v0'}#, 'ur5e' : 'brax_ur5e-v0'\n",
        "        self.env_name = env_name\n",
        "        self.agent_counter = 0\n",
        "        self.agents = []\n",
        "        self.obs = []\n",
        "        self.action = []\n",
        "        self.observation = []\n",
        "        for n in range(count):\n",
        "            self.agents.append(self.add_agent(env_name, self.agent_counter, batch_size))\n",
        "            self.obs.append(self.agents[-1].reset())\n",
        "            self.action.append([])\n",
        "            self.observation.append([])\n",
        "            self.agent_counter = self.agent_counter + 1\n",
        "\n",
        "    def add_agent(self, name, id, batch_size):\n",
        "        env = gym.make(self.name[name], batch_size=batch_size)\n",
        "        env = JaxToTorchWrapper(env)\n",
        "        return env\n",
        "\n",
        "    def reset(self, id):\n",
        "        self.initobs = self.agents[id].reset() \n",
        "\n",
        "    def test(self, id):\n",
        "        statep = self.init_state\n",
        "        qps = []\n",
        "        rewards = []\n",
        "        states = []\n",
        "        for i in range(1000):\n",
        "            action = self.env.action_space.sample()\n",
        "            obs, reward, done, info, statep = self.step(statep, action)\n",
        "            rewards.append(reward)\n",
        "            qps.append(statep.qp)\n",
        "            states.append(obs)\n",
        "        print(rewards)\n",
        "        return qps, states\n",
        "\n",
        "    def visualize(self, sys, qps):\n",
        "      \"\"\"Renders a 3D visualization of the environment.\"\"\"\n",
        "      return HTML(html.render(sys, qps))\n",
        "    \n",
        "    def step(self, action, id):\n",
        "        obs1 = self.obs[id]\n",
        "        obs, reward, done, info = self.agents[id].step(action)\n",
        "        self.observation[id] = obs1\n",
        "        self.action[id] = action\n",
        "        self.obs[id] = obs\n",
        "        action = jnp.array(action[0])\n",
        "        return obs, reward, done, info"
      ],
      "execution_count": null,
      "outputs": []
    },
    {
      "cell_type": "markdown",
      "metadata": {
        "id": "LUt_a_UF-8Eh"
      },
      "source": [
        "code from https://github.com/sweetice/Deep-reinforcement-learning-with-pytorch/tree/master/Char05%20DDPG"
      ]
    },
    {
      "cell_type": "code",
      "metadata": {
        "id": "CC07z5ac-8kQ"
      },
      "source": [
        "import argparse\n",
        "from itertools import count\n",
        "\n",
        "import os, sys, random\n",
        "import numpy as np\n",
        "\n",
        "import gym\n",
        "import torch\n",
        "import torch.nn as nn\n",
        "\n",
        "import torch.nn.functional as F\n",
        "import torch.optim as optim\n",
        "from torch.distributions import Normal\n",
        "from tensorboardX import SummaryWriter\n",
        "\n",
        "'''\n",
        "Implementation of Deep Deterministic Policy Gradients (DDPG) with pytorch \n",
        "riginal paper: https://arxiv.org/abs/1509.02971\n",
        "Not the author's implementation !\n",
        "'''\n",
        "\n",
        "\n",
        "mode = 'train'\n",
        "# OpenAI gym environment name, # ['BipedalWalker-v2', 'Pendulum-v0'] or any continuous environment\n",
        "# Note that DDPG is feasible about hyper-parameters.\n",
        "env_name = 'Ant-v2'\n",
        "tau=0.005\n",
        "target_update_interval=1\n",
        "test_iteration=1\n",
        "learning_rate=1e-4\n",
        "gamma=0.99\n",
        "capacity=1000000\n",
        "batch_size=100\n",
        "seed=False\n",
        "random_seed=9527\n",
        "# optional parameters\n",
        "sample_frequency=2000\n",
        "render=False\n",
        "log_interval=50\n",
        "load=False\n",
        "render_interval=100\n",
        "exploration_noise=0.1\n",
        "max_episode=30\n",
        "print_log=5\n",
        "update_iteration=200\n",
        "device = 'cuda' if torch.cuda.is_available() else 'cpu'\n",
        "script_name = os.path.basename('__file__')\n",
        "\n",
        "\n",
        "if seed:\n",
        "    #env.seed(random_seed)\n",
        "    torch.manual_seed(random_seed)\n",
        "    np.random.seed(random_seed)\n",
        "\n",
        "state_dim = 87#env.observation_space.shape[0]\n",
        "action_dim = 8#env.action_space.shape[0]\n",
        "max_action = 1#float(env.env.action_space.high[0])\n",
        "min_Val = torch.tensor(1e-7).float().to(device) # min value\n",
        "\n",
        "directory = './exp' + script_name + env_name +'./'\n",
        "\n",
        "class Replay_buffer():\n",
        "    '''\n",
        "    Code based on:\n",
        "    https://github.com/openai/baselines/blob/master/baselines/deepq/replay_buffer.py\n",
        "    Expects tuples of (state, next_state, action, reward, done)\n",
        "    '''\n",
        "    def __init__(self, max_size=capacity):\n",
        "        self.storage = []\n",
        "        self.max_size = max_size\n",
        "        self.ptr = 0\n",
        "\n",
        "    def push(self, data):\n",
        "        if len(self.storage) == self.max_size:\n",
        "            self.storage[int(self.ptr)] = data\n",
        "            self.ptr = (self.ptr + 1) % self.max_size\n",
        "        else:\n",
        "            self.storage.append(data)\n",
        "\n",
        "    def sample(self, batch_size):\n",
        "        ind = np.random.randint(0, len(self.storage), size=batch_size)\n",
        "        x, y, u, r, d = [], [], [], [], []\n",
        "\n",
        "        for i in ind:\n",
        "            X, Y, U, R, D = self.storage[i]\n",
        "            x.append(np.array(X, copy=False))\n",
        "            y.append(np.array(Y, copy=False))\n",
        "            u.append(np.array(U, copy=False))\n",
        "            r.append(np.array(R, copy=False))\n",
        "            d.append(np.array(D, copy=False))\n",
        "\n",
        "        return np.array(x), np.array(y), np.array(u), np.array(r).reshape(-1, 1), np.array(d).reshape(-1, 1)\n",
        "\n",
        "\n",
        "class Actor(nn.Module):\n",
        "    def __init__(self, state_dim, action_dim, max_action):\n",
        "        super(Actor, self).__init__()\n",
        "\n",
        "        self.l1 = nn.Linear(state_dim, 400)\n",
        "        self.l2 = nn.Linear(400, 300)\n",
        "        self.l3 = nn.Linear(300, action_dim)\n",
        "\n",
        "        self.max_action = max_action\n",
        "\n",
        "    def forward(self, x):\n",
        "        x = F.relu(self.l1(x))\n",
        "        x = F.relu(self.l2(x))\n",
        "        x = self.max_action * torch.tanh(self.l3(x))\n",
        "        return x\n",
        "\n",
        "\n",
        "class Critic(nn.Module):\n",
        "    def __init__(self, state_dim, action_dim):\n",
        "        super(Critic, self).__init__()\n",
        "\n",
        "        self.l1 = nn.Linear(state_dim + action_dim, 400)\n",
        "        self.l2 = nn.Linear(400 , 300)\n",
        "        self.l3 = nn.Linear(300, 1)\n",
        "\n",
        "    def forward(self, x, u):\n",
        "        #print(x.shape, u.shape)\n",
        "        if u.shape[1] == 1:\n",
        "            u = u.squeeze(1)\n",
        "        x = F.relu(self.l1(torch.cat([x, u], 1)))\n",
        "        x = F.relu(self.l2(x))\n",
        "        x = self.l3(x)\n",
        "        return x\n",
        "\n",
        "\n",
        "class DDPG(object):\n",
        "    def __init__(self, state_dim, action_dim, max_action):\n",
        "        self.actor = Actor(state_dim, action_dim, max_action).to(device)\n",
        "        self.actor_target = Actor(state_dim, action_dim, max_action).to(device)\n",
        "        self.actor_target.load_state_dict(self.actor.state_dict())\n",
        "        self.actor_optimizer = optim.Adam(self.actor.parameters(), lr=1e-4)\n",
        "\n",
        "        self.critic = Critic(state_dim, action_dim).to(device)\n",
        "        self.critic_target = Critic(state_dim, action_dim).to(device)\n",
        "        self.critic_target.load_state_dict(self.critic.state_dict())\n",
        "        self.critic_optimizer = optim.Adam(self.critic.parameters(), lr=1e-3)\n",
        "        self.replay_buffer = Replay_buffer()\n",
        "        self.writer = SummaryWriter(directory)\n",
        "\n",
        "        self.num_critic_update_iteration = 0\n",
        "        self.num_actor_update_iteration = 0\n",
        "        self.num_training = 0\n",
        "\n",
        "    def select_action(self, state):\n",
        "        state = torch.FloatTensor(state.reshape(1, -1)).to(device)\n",
        "        return self.actor(state).cpu().data.numpy().flatten()\n",
        "\n",
        "    def update(self):\n",
        "\n",
        "        for it in range(update_iteration):\n",
        "            # Sample replay buffer\n",
        "            x, y, u, r, d = self.replay_buffer.sample(batch_size)\n",
        "            state = torch.FloatTensor(x).to(device)\n",
        "            action = torch.FloatTensor(u).to(device)\n",
        "            next_state = torch.FloatTensor(y).to(device)\n",
        "            done = torch.FloatTensor(1-d).to(device)\n",
        "            reward = torch.FloatTensor(r).to(device)\n",
        "\n",
        "            # Compute the target Q value\n",
        "            target_Q = self.critic_target(next_state, self.actor_target(next_state))\n",
        "            target_Q = reward + (done * gamma * target_Q).detach()\n",
        "\n",
        "            # Get current Q estimate\n",
        "            current_Q = self.critic(state, action)\n",
        "\n",
        "            # Compute critic loss\n",
        "            critic_loss = F.mse_loss(current_Q, target_Q)\n",
        "            self.writer.add_scalar('Loss/critic_loss', critic_loss, global_step=self.num_critic_update_iteration)\n",
        "            # Optimize the critic\n",
        "            self.critic_optimizer.zero_grad()\n",
        "            critic_loss.backward()\n",
        "            self.critic_optimizer.step()\n",
        "\n",
        "            # Compute actor loss\n",
        "            actor_loss = -self.critic(state, self.actor(state)).mean()\n",
        "            self.writer.add_scalar('Loss/actor_loss', actor_loss, global_step=self.num_actor_update_iteration)\n",
        "\n",
        "            # Optimize the actor\n",
        "            self.actor_optimizer.zero_grad()\n",
        "            actor_loss.backward()\n",
        "            self.actor_optimizer.step()\n",
        "\n",
        "            # Update the frozen target models\n",
        "            for param, target_param in zip(self.critic.parameters(), self.critic_target.parameters()):\n",
        "                target_param.data.copy_(tau * param.data + (1 - tau) * target_param.data)\n",
        "\n",
        "            for param, target_param in zip(self.actor.parameters(), self.actor_target.parameters()):\n",
        "                target_param.data.copy_(tau * param.data + (1 - tau) * target_param.data)\n",
        "\n",
        "            self.num_actor_update_iteration += 1\n",
        "            self.num_critic_update_iteration += 1\n",
        "\n",
        "    def save(self):\n",
        "        torch.save(self.actor.state_dict(), directory + 'actor.pth')\n",
        "        torch.save(self.critic.state_dict(), directory + 'critic.pth')\n",
        "        # print(\"====================================\")\n",
        "        # print(\"Model has been saved...\")\n",
        "        # print(\"====================================\")\n",
        "\n",
        "    def load(self, name1, name2):\n",
        "        self.actor.load_state_dict(torch.load(directory + name1))\n",
        "        self.critic.load_state_dict(torch.load(directory + name2))\n",
        "        print(\"====================================\")\n",
        "        print(\"model has been loaded...\")\n",
        "        print(\"====================================\")\n",
        "\n",
        "def individualDDPG(env, mode = \"train\"):\n",
        "    id = 0\n",
        "    agent = DDPG(state_dim, action_dim, max_action)\n",
        "    ep_r = 0\n",
        "    if mode == 'test':\n",
        "        agent.load()\n",
        "        qps = []\n",
        "        for i in range(test_iteration):\n",
        "            env.reset()\n",
        "            state = env.initobs.squeeze(0).cpu().numpy()\n",
        "            st = env.init_state\n",
        "            for t in count():\n",
        "                action = agent.select_action(state)\n",
        "                action = torch.tensor(action).unsqueeze(0)\n",
        "                next_state, reward, done, info, st = env.step(st, action)\n",
        "                qps.append(st.qp)\n",
        "                reward = reward.cpu().numpy()[0]\n",
        "                done = bool(done.cpu().numpy()[0])\n",
        "                ep_r += reward\n",
        "                #env.render()\n",
        "                next_state = next_state.squeeze(0).cpu().numpy()\n",
        "                if done :#or t >= max_length_of_trajectory:\n",
        "                    print(\"Ep_i \\t{}, the ep_r is \\t{:0.2f}, the step is \\t{}\".format(i, ep_r, t))\n",
        "                    ep_r = 0\n",
        "                    break\n",
        "                state = next_state\n",
        "            return qps\n",
        "\n",
        "    elif mode == 'train':\n",
        "        if load: agent.load()\n",
        "        total_step = 0\n",
        "        log = []\n",
        "        logmean = []\n",
        "        for i in range(max_episode):\n",
        "            total_reward = 0\n",
        "            step =0\n",
        "            env.reset(id)\n",
        "            state = env.obs[id].squeeze(0).cpu().numpy()\n",
        "            for t in count():\n",
        "                action = agent.select_action(state)\n",
        "                action = (action + np.random.normal(0, exploration_noise, size=8)).clip(\n",
        "                    env.agents[id].action_space.low, env.agents[id].action_space.high)\n",
        "\n",
        "                next_state, reward, done, info = env.step(action, id)\n",
        "                reward = reward.cpu().numpy()[0]\n",
        "                done = bool(done.cpu().numpy()[0])\n",
        "                next_state = next_state.squeeze(0).cpu().numpy()\n",
        "                agent.replay_buffer.push((state, next_state, action, reward, np.float(done)))\n",
        "\n",
        "                state = next_state\n",
        "                if done:\n",
        "                    break\n",
        "                step += 1\n",
        "                total_reward += reward\n",
        "            total_step += step+1\n",
        "            logmean.append(total_reward/(step+1))\n",
        "            print(\"Total T:{} Episode: \\t{} Total Reward: \\t{:0.2f}\".format(total_step, i, total_reward))\n",
        "            log.append(total_reward)\n",
        "            agent.update()\n",
        "           # \"Total T: %d Episode Num: %d Episode T: %d Reward: %f\n",
        "\n",
        "            if i % log_interval == 0:\n",
        "                agent.save()\n",
        "        return log, logmean\n",
        "    else:\n",
        "        raise NameError(\"mode wrong!!!\")"
      ],
      "execution_count": null,
      "outputs": []
    },
    {
      "cell_type": "code",
      "metadata": {
        "colab": {
          "base_uri": "https://localhost:8080/"
        },
        "id": "atgHgamq6Ytv",
        "outputId": "eace3b82-e82b-4cf1-9067-13c4aec8dea6"
      },
      "source": [
        "env = TorchBraxENV(\"ant\",1)"
      ],
      "execution_count": null,
      "outputs": [
        {
          "name": "stderr",
          "output_type": "stream",
          "text": [
            "WARNING:absl:No GPU/TPU found, falling back to CPU. (Set TF_CPP_MIN_LOG_LEVEL=0 and rerun for more info.)\n"
          ]
        }
      ]
    },
    {
      "cell_type": "code",
      "metadata": {
        "colab": {
          "base_uri": "https://localhost:8080/"
        },
        "id": "CVt4UN3cJQvj",
        "outputId": "65a71f49-289f-449b-f96a-d53e458db98d"
      },
      "source": [
        "l_ind, ml_ind = individualDDPG(env)"
      ],
      "execution_count": null,
      "outputs": [
        {
          "name": "stdout",
          "output_type": "stream",
          "text": [
            "Total T:1000 Episode: \t0 Total Reward: \t937.52\n",
            "Total T:2000 Episode: \t1 Total Reward: \t-2704.41\n",
            "Total T:3000 Episode: \t2 Total Reward: \t-2689.66\n",
            "Total T:4000 Episode: \t3 Total Reward: \t-1561.22\n",
            "Total T:5000 Episode: \t4 Total Reward: \t-2664.71\n",
            "Total T:6000 Episode: \t5 Total Reward: \t-1755.17\n",
            "Total T:7000 Episode: \t6 Total Reward: \t-2550.89\n",
            "Total T:8000 Episode: \t7 Total Reward: \t-2448.73\n",
            "Total T:9000 Episode: \t8 Total Reward: \t-2360.56\n",
            "Total T:10000 Episode: \t9 Total Reward: \t-2497.70\n",
            "Total T:11000 Episode: \t10 Total Reward: \t-1391.19\n",
            "Total T:12000 Episode: \t11 Total Reward: \t-1115.64\n",
            "Total T:13000 Episode: \t12 Total Reward: \t-642.78\n",
            "Total T:14000 Episode: \t13 Total Reward: \t-671.05\n",
            "Total T:15000 Episode: \t14 Total Reward: \t-1240.16\n",
            "Total T:16000 Episode: \t15 Total Reward: \t481.49\n",
            "Total T:17000 Episode: \t16 Total Reward: \t591.91\n",
            "Total T:18000 Episode: \t17 Total Reward: \t399.04\n",
            "Total T:19000 Episode: \t18 Total Reward: \t756.63\n",
            "Total T:20000 Episode: \t19 Total Reward: \t747.09\n",
            "Total T:21000 Episode: \t20 Total Reward: \t797.43\n",
            "Total T:22000 Episode: \t21 Total Reward: \t684.51\n",
            "Total T:23000 Episode: \t22 Total Reward: \t823.32\n",
            "Total T:24000 Episode: \t23 Total Reward: \t226.79\n",
            "Total T:25000 Episode: \t24 Total Reward: \t847.19\n",
            "Total T:26000 Episode: \t25 Total Reward: \t850.28\n",
            "Total T:27000 Episode: \t26 Total Reward: \t868.99\n",
            "Total T:28000 Episode: \t27 Total Reward: \t794.89\n",
            "Total T:29000 Episode: \t28 Total Reward: \t882.82\n",
            "Total T:30000 Episode: \t29 Total Reward: \t822.79\n"
          ]
        }
      ]
    },
    {
      "cell_type": "code",
      "metadata": {
        "id": "GwTHmicSQRXq"
      },
      "source": [
        "class RandomAgent:\n",
        "    def __init__(self,env,id):\n",
        "        self.env = env\n",
        "        self.id = id\n",
        "    def step(self):\n",
        "        action = self.env.agents[self.id].action_space.sample()\n",
        "        #action = torch.tensor(action).unsqueeze(0)\n",
        "        return self.env.step(action, self.id)\n",
        "class PercentAgent:\n",
        "    def __init__(self,env,id,p0,pi,limit):\n",
        "        self.env = env\n",
        "        self.id = id\n",
        "        self.p0 = p0\n",
        "        self.pi = pi\n",
        "        self.limit = limit\n",
        "        self.agent = DDPG(state_dim, action_dim, max_action)\n",
        "        self.agent.load('actorp.pth','criticp.pth')\n",
        "    def step(self):\n",
        "        if self.p0 < self.limit:\n",
        "            self.p0 = self.p0 + self.pi\n",
        "        if np.random.rand()> self.p0:\n",
        "            action = self.env.agents[self.id].action_space.sample()\n",
        "            #action = torch.tensor(action).unsqueeze(0)\n",
        "            return self.env.step(action, self.id)\n",
        "        else:\n",
        "            state = self.env.obs[self.id].squeeze(0).cpu().numpy()\n",
        "            action = self.agent.select_action(state)\n",
        "            action = torch.tensor(action).unsqueeze(0)\n",
        "            return self.env.step(action, self.id)\n",
        "class OtherAgents:\n",
        "    def __init__(self, env, radndom_agents = 30, percent_agents = 1, p0 = [0.5], pi = [0], limit = [1]):\n",
        "        self.env = env\n",
        "        self.agents = []\n",
        "        for i in range(radndom_agents):\n",
        "            self.agents.append(RandomAgent(env, len(self.agents)+1))\n",
        "        for j in range(percent_agents):\n",
        "            self.agents.append(PercentAgent(env, len(self.agents)+1, p0[j], pi[j], limit[j]))\n",
        "    def step(self):\n",
        "        for id in range(len(self.agents)):\n",
        "            self.agents[id].step()"
      ],
      "execution_count": null,
      "outputs": []
    },
    {
      "cell_type": "code",
      "metadata": {
        "id": "xyxDGzIovxqW"
      },
      "source": [
        "class socialDDPG:\n",
        "    def __init__(self, env, id):\n",
        "        self.id = id\n",
        "        self.env = env\n",
        "        self.preference = np.zeros(len(self.env.agents))+0.0001\n",
        "        self.mean_reward = 0\n",
        "        self.other = OtherAgents(env)\n",
        "        self.frequency = {}\n",
        "        self.memorys = {}\n",
        "        self.memorya = {}\n",
        "        for i in range(len(env.agents)):\n",
        "            self.frequency[i] = {}\n",
        "            self.memorys[i] = []\n",
        "            self.memorya[i] = []\n",
        "    def update_social_preference(self, index, Ri, alpha = 0.1):\n",
        "        '''Update others with same action selected:'''\n",
        "        self.preference = np.round(self.preference,2)\n",
        "        d = np.sum(np.exp(self.preference))\n",
        "        mask = np.ones(len(self.preference))*alpha\n",
        "        self.preference = self.preference - mask * (Ri - self.mean_reward) * np.exp(self.preference)/d\n",
        "        self.preference[index] = self.preference[index] + alpha * (Ri - self.mean_reward)\n",
        "        return\n",
        "    def train(self):\n",
        "        ep_r = 0\n",
        "        total_step = 0\n",
        "        agent = DDPG(state_dim, action_dim, max_action)\n",
        "        log =[]\n",
        "        logmean = []\n",
        "        for i in range(max_episode):\n",
        "            total_reward = 0\n",
        "            step =0\n",
        "            self.env.reset(self.id)\n",
        "            state = self.env.obs[self.id].squeeze(0).cpu().numpy()\n",
        "            for t in count():\n",
        "                self.other.step()\n",
        "                self.update_other()\n",
        "                ind = self.select_agent_social()\n",
        "                if ind == self.id:\n",
        "                    action = agent.select_action(state)\n",
        "                else:\n",
        "                    index, dist = self.distance_2(self.env.obs[self.id][0],ind)\n",
        "                    if True:#dist< 100:\n",
        "                        action = self.memorya[ind][index]/self.frequency[ind][index]\n",
        "                    else:\n",
        "                        action = agent.select_action(state)\n",
        "                action = (action + np.random.normal(0, exploration_noise, size=8)).clip(\n",
        "                    self.env.agents[self.id].action_space.low, self.env.agents[self.id].action_space.high)\n",
        "\n",
        "                next_state, reward, done, info = self.env.step(action, self.id)\n",
        "                reward = reward.cpu().numpy()[0]\n",
        "                self.mean_reward = self.mean_reward + (reward - self.mean_reward) / (total_step+step+1)\n",
        "                done = bool(done.cpu().numpy()[0])\n",
        "                next_state = next_state.squeeze(0).cpu().numpy()\n",
        "                agent.replay_buffer.push((state, next_state, action, reward, np.float(done)))\n",
        "                self.update_social_preference(ind,reward)\n",
        "                state = next_state\n",
        "                if done:\n",
        "                    break\n",
        "                step += 1\n",
        "                total_reward += reward\n",
        "            total_step += step+1\n",
        "            logmean.append(total_reward/(step+1))\n",
        "            print(\"Total T:{} Episode: \\t{} Total Reward: \\t{:0.2f}\".format(total_step, i, total_reward))\n",
        "            log.append(total_reward)\n",
        "            agent.update()\n",
        "           # \"Total T: %d Episode Num: %d Episode T: %d Reward: %f\n",
        "\n",
        "            if i % log_interval == 0:\n",
        "                agent.save()\n",
        "        return log, logmean\n",
        "    def select_agent_social(self):\n",
        "        '''calculate action frequency'''\n",
        "        p = np.round(np.exp(np.round(self.preference,2)),2)\n",
        "        p = p/np.sum(p)\n",
        "        for j in range(len(p)):\n",
        "            if np.isnan(p[j]):\n",
        "                p[j] = 1\n",
        "        ind = np.random.choice(len(self.preference),p = p/np.sum(p))\n",
        "        return ind\n",
        "    def discretization(self, obs, n_states = 10):\n",
        "        mean = [0.512935,0.8771014,0.00318009,-0.00107332,-0.32302815,-0.02285054,0.76466185,-0.00616708,-0.79924,0.02244968,-0.75759006,0.04112618,0.7845517,0.04715682,-0.06229121,-0.00212612,0.00134401,-0.00154093,0.03623924,0.03540457,-0.09489802,0.05795975,0.08533197,0.06689456,0.06319307,0.05025724 ,-0.05915077 ,0.,0.,0.,0.,0.,0.,0.1335602,0.03853325,0.46465164,0.,0.,0.,0.01039072,0.12853892,0.46594495,0.,0.,0.,-0.18193619,-0.0190005,0.45810446,0.,0.,0.,0.02337247,-0.16255395,0.48399597,0.,0.,0.,0.,0.,0.,0.,0.,0.,0.03998902,-0.26251286,0.00879745,0.,0.,0.,0.23754834,0.01159564,-0.00779585,0.,0.,0.,-0.02750523,0.2749194,-0.00248644,0.,0.,0.,-0.24501452,-0.03647386,-0.00094276,0.,0.,0.]\n",
        "        std = [0.07744323,0.14636894,0.07369222,0.06561895,0.308502,0.39632493,0.27101347,0.4020095,0.2752692,0.40119424,0.2659911,0.41094434,0.27054137,0.54452074,0.54259163,0.6363673,0.67817664,0.6824479,1.171427,2.4439185,2.2861478,2.3977423,2.2525258,2.4302907,2.298325,2.3869438,2.2001705,0.,0.,0.,0.,0.,0.,0.5895457,0.6108013,0.48834106,0.,0.,0.,0.61998945,0.5794294,0.48899138,0.,0.,0.,0.5744256,0.59737915,0.48830667,0.,0.,0.,0.61905366,0.5848296,0.48733643,0.,0.,0.,0.,0.,0.,0.,0.,0.,0.48981124,0.4426984,0.34788635,0.,0.,0.,0.44785193,0.51040834,0.33826688,0.,0.,0.,0.47715166,0.44448018,0.33369592,0.,0.,0.,0.4470643,0.48702958,0.33923015,0.,0.,0.]\n",
        "        mean = torch.tensor(mean)\n",
        "        std = torch.tensor(std)+0.0001      \n",
        "        return torch.tensor((obs - mean)/std*n_states).int()\n",
        "    def distance(self, obs, id, limit = 1000):\n",
        "        if len(self.memorys[id]) == 0:\n",
        "            self.memorys[id].append(obs)\n",
        "            return None\n",
        "        dist = []\n",
        "        for t in self.memorys[id]:\n",
        "            dist.append((t-obs).pow(2).sum().item())\n",
        "        if (np.array(dist) < limit).sum() == 0:\n",
        "            self.memorys[id].append(obs)\n",
        "            return None\n",
        "        return np.argmin(dist)\n",
        "    def distance_2(self, obs, id, limit = 1000):\n",
        "        dist = []\n",
        "        for t in self.memorys[id]:\n",
        "            dist.append((t-obs).pow(2).sum().item())\n",
        "        return np.argmin(dist), np.min(dist)\n",
        "    def update_other(self):\n",
        "        for id in range(len(self.env.agents)):\n",
        "            if id == self.id:\n",
        "                continue\n",
        "            obs = self.env.observation[id]\n",
        "            action = self.env.action[id]\n",
        "            obs = self.discretization(obs[0])\n",
        "            ind = self.distance(obs, id)\n",
        "            if ind is None:\n",
        "                self.memorya[id].append(np.array(action[0]))\n",
        "                self.frequency[id][len(self.memorya[id])-1] = 1\n",
        "            else:\n",
        "                self.memorya[id][ind] = self.memorya[id][ind] + np.array(action[0])\n",
        "                self.frequency[id][ind] = self.frequency[id][ind] + 1"
      ],
      "execution_count": null,
      "outputs": []
    },
    {
      "cell_type": "code",
      "metadata": {
        "id": "STI4qSx8dXN6"
      },
      "source": [
        "env = TorchBraxENV(\"ant\",3)"
      ],
      "execution_count": null,
      "outputs": []
    },
    {
      "cell_type": "code",
      "metadata": {
        "colab": {
          "base_uri": "https://localhost:8080/",
          "height": 904
        },
        "id": "fOP3z0AKibiF",
        "outputId": "5784308e-074b-4be7-d644-eb791b13ec04"
      },
      "source": [
        "l, ml = socialDDPG(env,0).train()"
      ],
      "execution_count": null,
      "outputs": [
        {
          "metadata": {
            "tags": null
          },
          "name": "stdout",
          "output_type": "stream",
          "text": [
            "====================================\n",
            "model has been loaded...\n",
            "====================================\n"
          ]
        },
        {
          "metadata": {
            "tags": null
          },
          "name": "stderr",
          "output_type": "stream",
          "text": [
            "/usr/local/lib/python3.7/dist-packages/ipykernel_launcher.py:85: UserWarning: To copy construct from a tensor, it is recommended to use sourceTensor.clone().detach() or sourceTensor.clone().detach().requires_grad_(True), rather than torch.tensor(sourceTensor).\n",
            "/usr/local/lib/python3.7/dist-packages/ipykernel_launcher.py:85: UserWarning: To copy construct from a tensor, it is recommended to use sourceTensor.clone().detach() or sourceTensor.clone().detach().requires_grad_(True), rather than torch.tensor(sourceTensor).\n"
          ]
        },
        {
          "output_type": "stream",
          "name": "stdout",
          "text": [
            "Total T:1000 Episode: \t0 Total Reward: \t884.84\n",
            "Total T:2000 Episode: \t1 Total Reward: \t-2670.45\n",
            "Total T:3000 Episode: \t2 Total Reward: \t323.47\n",
            "Total T:4000 Episode: \t3 Total Reward: \t582.67\n",
            "Total T:5000 Episode: \t4 Total Reward: \t788.15\n",
            "Total T:6000 Episode: \t5 Total Reward: \t842.23\n",
            "Total T:7000 Episode: \t6 Total Reward: \t851.93\n",
            "Total T:8000 Episode: \t7 Total Reward: \t855.18\n",
            "Total T:9000 Episode: \t8 Total Reward: \t847.97\n",
            "Total T:10000 Episode: \t9 Total Reward: \t833.02\n",
            "Total T:11000 Episode: \t10 Total Reward: \t830.01\n",
            "Total T:12000 Episode: \t11 Total Reward: \t841.15\n",
            "Total T:13000 Episode: \t12 Total Reward: \t866.82\n",
            "Total T:14000 Episode: \t13 Total Reward: \t882.76\n",
            "Total T:15000 Episode: \t14 Total Reward: \t871.79\n",
            "Total T:16000 Episode: \t15 Total Reward: \t875.73\n",
            "Total T:17000 Episode: \t16 Total Reward: \t868.21\n",
            "Total T:18000 Episode: \t17 Total Reward: \t871.16\n",
            "Total T:19000 Episode: \t18 Total Reward: \t880.41\n",
            "Total T:20000 Episode: \t19 Total Reward: \t902.44\n",
            "Total T:21000 Episode: \t20 Total Reward: \t900.57\n",
            "Total T:22000 Episode: \t21 Total Reward: \t892.63\n",
            "Total T:23000 Episode: \t22 Total Reward: \t917.04\n",
            "Total T:24000 Episode: \t23 Total Reward: \t910.26\n",
            "Total T:25000 Episode: \t24 Total Reward: \t908.27\n",
            "Total T:26000 Episode: \t25 Total Reward: \t918.27\n",
            "Total T:27000 Episode: \t26 Total Reward: \t920.89\n",
            "Total T:28000 Episode: \t27 Total Reward: \t918.90\n",
            "Total T:29000 Episode: \t28 Total Reward: \t912.30\n"
          ]
        },
        {
          "output_type": "error",
          "ename": "KeyboardInterrupt",
          "evalue": "ignored",
          "traceback": [
            "\u001b[0;31m---------------------------------------------------------------------------\u001b[0m",
            "\u001b[0;31mKeyboardInterrupt\u001b[0m                         Traceback (most recent call last)",
            "\u001b[0;32m<ipython-input-11-d5dfa9729109>\u001b[0m in \u001b[0;36m<module>\u001b[0;34m()\u001b[0m\n\u001b[0;32m----> 1\u001b[0;31m \u001b[0ml\u001b[0m\u001b[0;34m,\u001b[0m \u001b[0mml\u001b[0m \u001b[0;34m=\u001b[0m \u001b[0msocialDDPG\u001b[0m\u001b[0;34m(\u001b[0m\u001b[0menv\u001b[0m\u001b[0;34m,\u001b[0m\u001b[0;36m0\u001b[0m\u001b[0;34m)\u001b[0m\u001b[0;34m.\u001b[0m\u001b[0mtrain\u001b[0m\u001b[0;34m(\u001b[0m\u001b[0;34m)\u001b[0m\u001b[0;34m\u001b[0m\u001b[0;34m\u001b[0m\u001b[0m\n\u001b[0m",
            "\u001b[0;32m<ipython-input-8-8b551d6c6c63>\u001b[0m in \u001b[0;36mtrain\u001b[0;34m(self)\u001b[0m\n\u001b[1;32m     34\u001b[0m             \u001b[0;32mfor\u001b[0m \u001b[0mt\u001b[0m \u001b[0;32min\u001b[0m \u001b[0mcount\u001b[0m\u001b[0;34m(\u001b[0m\u001b[0;34m)\u001b[0m\u001b[0;34m:\u001b[0m\u001b[0;34m\u001b[0m\u001b[0;34m\u001b[0m\u001b[0m\n\u001b[1;32m     35\u001b[0m                 \u001b[0mself\u001b[0m\u001b[0;34m.\u001b[0m\u001b[0mother\u001b[0m\u001b[0;34m.\u001b[0m\u001b[0mstep\u001b[0m\u001b[0;34m(\u001b[0m\u001b[0;34m)\u001b[0m\u001b[0;34m\u001b[0m\u001b[0;34m\u001b[0m\u001b[0m\n\u001b[0;32m---> 36\u001b[0;31m                 \u001b[0mself\u001b[0m\u001b[0;34m.\u001b[0m\u001b[0mupdate_other\u001b[0m\u001b[0;34m(\u001b[0m\u001b[0;34m)\u001b[0m\u001b[0;34m\u001b[0m\u001b[0;34m\u001b[0m\u001b[0m\n\u001b[0m\u001b[1;32m     37\u001b[0m                 \u001b[0mind\u001b[0m \u001b[0;34m=\u001b[0m \u001b[0mself\u001b[0m\u001b[0;34m.\u001b[0m\u001b[0mselect_agent_social\u001b[0m\u001b[0;34m(\u001b[0m\u001b[0;34m)\u001b[0m\u001b[0;34m\u001b[0m\u001b[0;34m\u001b[0m\u001b[0m\n\u001b[1;32m     38\u001b[0m                 \u001b[0;32mif\u001b[0m \u001b[0mind\u001b[0m \u001b[0;34m==\u001b[0m \u001b[0mself\u001b[0m\u001b[0;34m.\u001b[0m\u001b[0mid\u001b[0m\u001b[0;34m:\u001b[0m\u001b[0;34m\u001b[0m\u001b[0;34m\u001b[0m\u001b[0m\n",
            "\u001b[0;32m<ipython-input-8-8b551d6c6c63>\u001b[0m in \u001b[0;36mupdate_other\u001b[0;34m(self)\u001b[0m\n\u001b[1;32m    107\u001b[0m             \u001b[0maction\u001b[0m \u001b[0;34m=\u001b[0m \u001b[0mself\u001b[0m\u001b[0;34m.\u001b[0m\u001b[0menv\u001b[0m\u001b[0;34m.\u001b[0m\u001b[0maction\u001b[0m\u001b[0;34m[\u001b[0m\u001b[0mid\u001b[0m\u001b[0;34m]\u001b[0m\u001b[0;34m\u001b[0m\u001b[0;34m\u001b[0m\u001b[0m\n\u001b[1;32m    108\u001b[0m             \u001b[0mobs\u001b[0m \u001b[0;34m=\u001b[0m \u001b[0mself\u001b[0m\u001b[0;34m.\u001b[0m\u001b[0mdiscretization\u001b[0m\u001b[0;34m(\u001b[0m\u001b[0mobs\u001b[0m\u001b[0;34m[\u001b[0m\u001b[0;36m0\u001b[0m\u001b[0;34m]\u001b[0m\u001b[0;34m)\u001b[0m\u001b[0;34m\u001b[0m\u001b[0;34m\u001b[0m\u001b[0m\n\u001b[0;32m--> 109\u001b[0;31m             \u001b[0mind\u001b[0m \u001b[0;34m=\u001b[0m \u001b[0mself\u001b[0m\u001b[0;34m.\u001b[0m\u001b[0mdistance\u001b[0m\u001b[0;34m(\u001b[0m\u001b[0mobs\u001b[0m\u001b[0;34m,\u001b[0m \u001b[0mid\u001b[0m\u001b[0;34m)\u001b[0m\u001b[0;34m\u001b[0m\u001b[0;34m\u001b[0m\u001b[0m\n\u001b[0m\u001b[1;32m    110\u001b[0m             \u001b[0;32mif\u001b[0m \u001b[0mind\u001b[0m \u001b[0;32mis\u001b[0m \u001b[0;32mNone\u001b[0m\u001b[0;34m:\u001b[0m\u001b[0;34m\u001b[0m\u001b[0;34m\u001b[0m\u001b[0m\n\u001b[1;32m    111\u001b[0m                 \u001b[0mself\u001b[0m\u001b[0;34m.\u001b[0m\u001b[0mmemorya\u001b[0m\u001b[0;34m[\u001b[0m\u001b[0mid\u001b[0m\u001b[0;34m]\u001b[0m\u001b[0;34m.\u001b[0m\u001b[0mappend\u001b[0m\u001b[0;34m(\u001b[0m\u001b[0mnp\u001b[0m\u001b[0;34m.\u001b[0m\u001b[0marray\u001b[0m\u001b[0;34m(\u001b[0m\u001b[0maction\u001b[0m\u001b[0;34m[\u001b[0m\u001b[0;36m0\u001b[0m\u001b[0;34m]\u001b[0m\u001b[0;34m)\u001b[0m\u001b[0;34m)\u001b[0m\u001b[0;34m\u001b[0m\u001b[0;34m\u001b[0m\u001b[0m\n",
            "\u001b[0;32m<ipython-input-8-8b551d6c6c63>\u001b[0m in \u001b[0;36mdistance\u001b[0;34m(self, obs, id, limit)\u001b[0m\n\u001b[1;32m     90\u001b[0m         \u001b[0mdist\u001b[0m \u001b[0;34m=\u001b[0m \u001b[0;34m[\u001b[0m\u001b[0;34m]\u001b[0m\u001b[0;34m\u001b[0m\u001b[0;34m\u001b[0m\u001b[0m\n\u001b[1;32m     91\u001b[0m         \u001b[0;32mfor\u001b[0m \u001b[0mt\u001b[0m \u001b[0;32min\u001b[0m \u001b[0mself\u001b[0m\u001b[0;34m.\u001b[0m\u001b[0mmemorys\u001b[0m\u001b[0;34m[\u001b[0m\u001b[0mid\u001b[0m\u001b[0;34m]\u001b[0m\u001b[0;34m:\u001b[0m\u001b[0;34m\u001b[0m\u001b[0;34m\u001b[0m\u001b[0m\n\u001b[0;32m---> 92\u001b[0;31m             \u001b[0mdist\u001b[0m\u001b[0;34m.\u001b[0m\u001b[0mappend\u001b[0m\u001b[0;34m(\u001b[0m\u001b[0;34m(\u001b[0m\u001b[0mt\u001b[0m\u001b[0;34m-\u001b[0m\u001b[0mobs\u001b[0m\u001b[0;34m)\u001b[0m\u001b[0;34m.\u001b[0m\u001b[0mpow\u001b[0m\u001b[0;34m(\u001b[0m\u001b[0;36m2\u001b[0m\u001b[0;34m)\u001b[0m\u001b[0;34m.\u001b[0m\u001b[0msum\u001b[0m\u001b[0;34m(\u001b[0m\u001b[0;34m)\u001b[0m\u001b[0;34m.\u001b[0m\u001b[0mitem\u001b[0m\u001b[0;34m(\u001b[0m\u001b[0;34m)\u001b[0m\u001b[0;34m)\u001b[0m\u001b[0;34m\u001b[0m\u001b[0;34m\u001b[0m\u001b[0m\n\u001b[0m\u001b[1;32m     93\u001b[0m         \u001b[0;32mif\u001b[0m \u001b[0;34m(\u001b[0m\u001b[0mnp\u001b[0m\u001b[0;34m.\u001b[0m\u001b[0marray\u001b[0m\u001b[0;34m(\u001b[0m\u001b[0mdist\u001b[0m\u001b[0;34m)\u001b[0m \u001b[0;34m<\u001b[0m \u001b[0mlimit\u001b[0m\u001b[0;34m)\u001b[0m\u001b[0;34m.\u001b[0m\u001b[0msum\u001b[0m\u001b[0;34m(\u001b[0m\u001b[0;34m)\u001b[0m \u001b[0;34m==\u001b[0m \u001b[0;36m0\u001b[0m\u001b[0;34m:\u001b[0m\u001b[0;34m\u001b[0m\u001b[0;34m\u001b[0m\u001b[0m\n\u001b[1;32m     94\u001b[0m             \u001b[0mself\u001b[0m\u001b[0;34m.\u001b[0m\u001b[0mmemorys\u001b[0m\u001b[0;34m[\u001b[0m\u001b[0mid\u001b[0m\u001b[0;34m]\u001b[0m\u001b[0;34m.\u001b[0m\u001b[0mappend\u001b[0m\u001b[0;34m(\u001b[0m\u001b[0mobs\u001b[0m\u001b[0;34m)\u001b[0m\u001b[0;34m\u001b[0m\u001b[0;34m\u001b[0m\u001b[0m\n",
            "\u001b[0;31mKeyboardInterrupt\u001b[0m: "
          ]
        }
      ]
    },
    {
      "cell_type": "code",
      "metadata": {
        "id": "LIeQLAJlJ-A_"
      },
      "source": [
        "l = [884.84,-2670.45,323.47,582.67,788.15,842.23,851.93,855.18,847.97,833.02,830.01,841.15,866.82,882.76,871.79,875.73,868.21,871.16,880.41,902.44,900.57,892.63,917.04,910.26,908.27,918.27,920.89,918.9,912.3]"
      ],
      "execution_count": null,
      "outputs": []
    },
    {
      "cell_type": "code",
      "metadata": {
        "id": "WDRUda90ieN2",
        "colab": {
          "base_uri": "https://localhost:8080/",
          "height": 279
        },
        "outputId": "395d61d3-17de-4ae1-b371-496f3acfd58d"
      },
      "source": [
        "import matplotlib.pyplot as plt\n",
        "plt.plot([i*1000+1000 for i in range(len(l))],l, label = \"social\")\n",
        "plt.plot([i*1000+1000 for i in range(len(l_ind))],l_ind, label = \"individual\")\n",
        "plt.legend()\n",
        "plt.xlabel(\"trial\")\n",
        "plt.ylabel(\"cummulative reward\")\n",
        "plt.show()"
      ],
      "execution_count": null,
      "outputs": [
        {
          "output_type": "display_data",
          "data": {
            "image/png": "[encoded data removed]",
            "text/plain": [
              "<Figure size 432x288 with 1 Axes>"
            ]
          },
          "metadata": {
            "needs_background": "light"
          }
        }
      ]
    },
    {
      "cell_type": "code",
      "metadata": {
        "colab": {
          "base_uri": "https://localhost:8080/",
          "height": 279
        },
        "id": "jwk0Er7RLGtH",
        "outputId": "a1f42925-4d8b-4d94-d4e2-4e4442f51b30"
      },
      "source": [
        "import matplotlib.pyplot as plt\n",
        "plt.plot(l, label = \"social\")\n",
        "plt.plot(l_ind, label = \"individual\")\n",
        "plt.legend()\n",
        "plt.xlabel(\"ep(1000 Trial)\")\n",
        "plt.ylabel(\"cummulative reward\")\n",
        "plt.show()"
      ],
      "execution_count": null,
      "outputs": [
        {
          "output_type": "display_data",
          "data": {
            "image/png": "[encoded data removed]",
            "text/plain": [
              "<Figure size 432x288 with 1 Axes>"
            ]
          },
          "metadata": {
            "needs_background": "light"
          }
        }
      ]
    },
    {
      "cell_type": "code",
      "metadata": {
        "colab": {
          "base_uri": "https://localhost:8080/"
        },
        "id": "c0LECu87aC-Y",
        "outputId": "783737cf-5520-47d2-d5f8-4efeec979550"
      },
      "source": [
        "env = TorchBraxENV(\"ant\",32)"
      ],
      "execution_count": null,
      "outputs": [
        {
          "output_type": "stream",
          "name": "stderr",
          "text": [
            "WARNING:absl:No GPU/TPU found, falling back to CPU. (Set TF_CPP_MIN_LOG_LEVEL=0 and rerun for more info.)\n"
          ]
        }
      ]
    },
    {
      "cell_type": "code",
      "metadata": {
        "colab": {
          "base_uri": "https://localhost:8080/",
          "height": 35
        },
        "id": "Mw5qEo_adTFV",
        "outputId": "d814c29b-9fb5-4d76-e556-eb107d2fd2f9"
      },
      "source": [
        "directory"
      ],
      "execution_count": null,
      "outputs": [
        {
          "output_type": "execute_result",
          "data": {
            "application/vnd.google.colaboratory.intrinsic+json": {
              "type": "string"
            },
            "text/plain": [
              "'./exp__file__Ant-v2./'"
            ]
          },
          "metadata": {},
          "execution_count": 8
        }
      ]
    },
    {
      "cell_type": "code",
      "metadata": {
        "colab": {
          "base_uri": "https://localhost:8080/"
        },
        "id": "orD8WXRmdVTE",
        "outputId": "b7e4320c-79b2-4fd5-d554-64a6dcdf72da"
      },
      "source": [
        "sl = socialDDPG(env,0)\n",
        "l, ml = sl.train()"
      ],
      "execution_count": null,
      "outputs": [
        {
          "metadata": {
            "tags": null
          },
          "name": "stdout",
          "output_type": "stream",
          "text": [
            "====================================\n",
            "model has been loaded...\n",
            "====================================\n"
          ]
        },
        {
          "metadata": {
            "tags": null
          },
          "name": "stderr",
          "output_type": "stream",
          "text": [
            "/usr/local/lib/python3.7/dist-packages/ipykernel_launcher.py:85: UserWarning: To copy construct from a tensor, it is recommended to use sourceTensor.clone().detach() or sourceTensor.clone().detach().requires_grad_(True), rather than torch.tensor(sourceTensor).\n",
            "/usr/local/lib/python3.7/dist-packages/ipykernel_launcher.py:85: UserWarning: To copy construct from a tensor, it is recommended to use sourceTensor.clone().detach() or sourceTensor.clone().detach().requires_grad_(True), rather than torch.tensor(sourceTensor).\n"
          ]
        },
        {
          "output_type": "stream",
          "name": "stdout",
          "text": [
            "Total T:1000 Episode: \t0 Total Reward: \t650.62\n",
            "Total T:2000 Episode: \t1 Total Reward: \t-196.98\n",
            "Total T:3000 Episode: \t2 Total Reward: \t685.44\n",
            "Total T:4000 Episode: \t3 Total Reward: \t799.24\n",
            "Total T:5000 Episode: \t4 Total Reward: \t739.44\n",
            "Total T:6000 Episode: \t5 Total Reward: \t782.09\n",
            "Total T:7000 Episode: \t6 Total Reward: \t839.06\n",
            "Total T:8000 Episode: \t7 Total Reward: \t879.19\n",
            "Total T:9000 Episode: \t8 Total Reward: \t898.46\n"
          ]
        }
      ]
    },
    {
      "cell_type": "code",
      "metadata": {
        "id": "xqYEzReSOs0n"
      },
      "source": [
        "l_ind = [937.52,-2704.41,-2689.66,-1561.22,-2664.71,-1755.17,-2550.89,-2448.73,-2360.56,-2497.7,-1391.19,-1115.64,-642.78,-671.05,-1240.16,481.49,591.91,399.04,756.63,747.09,797.43]"
      ],
      "execution_count": null,
      "outputs": []
    },
    {
      "cell_type": "code",
      "metadata": {
        "id": "LREBAvgWO2tt"
      },
      "source": [
        "l = [650.62, -196.98, 685.44, 799.24, 739.44, 782.09, 839.06, 879.19, 898.46]"
      ],
      "execution_count": null,
      "outputs": []
    },
    {
      "cell_type": "code",
      "metadata": {
        "colab": {
          "base_uri": "https://localhost:8080/",
          "height": 279
        },
        "id": "_B9z4f3iOyv2",
        "outputId": "7ea74cd2-2e8c-4d34-ec0f-391d3ac40c54"
      },
      "source": [
        "import matplotlib.pyplot as plt\n",
        "plt.plot([i*1000+1000 for i in range(len(l))],l, label = \"social\")\n",
        "plt.plot([i*1000+1000 for i in range(len(l_ind))],l_ind, label = \"individual\")\n",
        "plt.legend()\n",
        "plt.xlabel(\"trial\")\n",
        "plt.ylabel(\"cummulative reward\")\n",
        "plt.show()"
      ],
      "execution_count": null,
      "outputs": [
        {
          "output_type": "display_data",
          "data": {
            "image/png": "[encoded data removed]",
            "text/plain": [
              "<Figure size 432x288 with 1 Axes>"
            ]
          },
          "metadata": {
            "needs_background": "light"
          }
        }
      ]
    }
  ]
}